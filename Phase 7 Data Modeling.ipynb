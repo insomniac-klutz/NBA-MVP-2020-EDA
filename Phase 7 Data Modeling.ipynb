{
 "cells": [
  {
   "cell_type": "code",
   "execution_count": 1,
   "metadata": {
    "_cell_guid": "b1076dfc-b9ad-4769-8c92-a6c4dae69d19",
    "_uuid": "8f2839f25d086af736a60e9eeb907d3b93b6e0e5",
    "execution": {
     "iopub.execute_input": "2020-12-25T08:12:41.112532Z",
     "iopub.status.busy": "2020-12-25T08:12:41.111806Z",
     "iopub.status.idle": "2020-12-25T08:12:41.125439Z",
     "shell.execute_reply": "2020-12-25T08:12:41.124676Z"
    },
    "papermill": {
     "duration": 0.033273,
     "end_time": "2020-12-25T08:12:41.125691",
     "exception": false,
     "start_time": "2020-12-25T08:12:41.092418",
     "status": "completed"
    },
    "tags": []
   },
   "outputs": [
    {
     "name": "stdout",
     "output_type": "stream",
     "text": [
      "/kaggle/input/nba-mvp-voting-stats/data_mvp.csv\n",
      "/kaggle/input/nba-mvp-voting-stats/test_data_mvp.csv\n"
     ]
    }
   ],
   "source": [
    "# This Python 3 environment comes with many helpful analytics libraries installed\n",
    "# It is defined by the kaggle/python Docker image: https://github.com/kaggle/docker-python\n",
    "# For example, here's several helpful packages to load\n",
    "\n",
    "import numpy as np # linear algebra\n",
    "import pandas as pd # data processing, CSV file I/O (e.g. pd.read_csv)\n",
    "\n",
    "# Input data files are available in the read-only \"../input/\" directory\n",
    "# For example, running this (by clicking run or pressing Shift+Enter) will list all files under the input directory\n",
    "\n",
    "import os\n",
    "for dirname, _, filenames in os.walk('/kaggle/input'):\n",
    "    for filename in filenames:\n",
    "        print(os.path.join(dirname, filename))\n",
    "\n",
    "# You can write up to 5GB to the current directory (/kaggle/working/) that gets preserved as output when you create a version using \"Save & Run All\" \n",
    "# You can also write temporary files to /kaggle/temp/, but they won't be saved outside of the current session"
   ]
  },
  {
   "cell_type": "code",
   "execution_count": 2,
   "metadata": {
    "execution": {
     "iopub.execute_input": "2020-12-25T08:12:41.156114Z",
     "iopub.status.busy": "2020-12-25T08:12:41.155450Z",
     "iopub.status.idle": "2020-12-25T08:12:43.058907Z",
     "shell.execute_reply": "2020-12-25T08:12:43.058236Z"
    },
    "papermill": {
     "duration": 1.920301,
     "end_time": "2020-12-25T08:12:43.059036",
     "exception": false,
     "start_time": "2020-12-25T08:12:41.138735",
     "status": "completed"
    },
    "tags": []
   },
   "outputs": [],
   "source": [
    "from sklearn.model_selection import train_test_split\n",
    "from xgboost import XGBRegressor\n",
    "from sklearn.metrics import mean_absolute_error\n",
    "from sklearn.model_selection import RandomizedSearchCV"
   ]
  },
  {
   "cell_type": "code",
   "execution_count": 3,
   "metadata": {
    "execution": {
     "iopub.execute_input": "2020-12-25T08:12:43.092308Z",
     "iopub.status.busy": "2020-12-25T08:12:43.091533Z",
     "iopub.status.idle": "2020-12-25T08:12:43.117834Z",
     "shell.execute_reply": "2020-12-25T08:12:43.117047Z"
    },
    "papermill": {
     "duration": 0.046004,
     "end_time": "2020-12-25T08:12:43.117962",
     "exception": false,
     "start_time": "2020-12-25T08:12:43.071958",
     "status": "completed"
    },
    "tags": []
   },
   "outputs": [],
   "source": [
    "main_data=pd.read_csv(\"/kaggle/input/nba-mvp-voting-stats/data_mvp.csv\")\n",
    "test_data=pd.read_csv(\"/kaggle/input/nba-mvp-voting-stats/test_data_mvp.csv\")"
   ]
  },
  {
   "cell_type": "code",
   "execution_count": 4,
   "metadata": {
    "execution": {
     "iopub.execute_input": "2020-12-25T08:12:43.164817Z",
     "iopub.status.busy": "2020-12-25T08:12:43.163752Z",
     "iopub.status.idle": "2020-12-25T08:12:43.166965Z",
     "shell.execute_reply": "2020-12-25T08:12:43.166300Z"
    },
    "papermill": {
     "duration": 0.036673,
     "end_time": "2020-12-25T08:12:43.167087",
     "exception": false,
     "start_time": "2020-12-25T08:12:43.130414",
     "status": "completed"
    },
    "tags": []
   },
   "outputs": [],
   "source": [
    "features=[ 'per','ts_pct', 'usg_pct', 'bpm', 'pts_per_g', 'trb_per_g', 'ast_per_g',\n",
    "       'stl_per_g', 'blk_per_g', 'ws', 'win_pct']\n",
    "\n",
    "X=main_data[features].copy()\n",
    "y = main_data[['award_share']].to_numpy()\n",
    "y = y.reshape(y.shape[0], )\n",
    "\n",
    "y=pd.Series(y)"
   ]
  },
  {
   "cell_type": "code",
   "execution_count": 5,
   "metadata": {
    "execution": {
     "iopub.execute_input": "2020-12-25T08:12:43.208600Z",
     "iopub.status.busy": "2020-12-25T08:12:43.207839Z",
     "iopub.status.idle": "2020-12-25T08:12:43.309282Z",
     "shell.execute_reply": "2020-12-25T08:12:43.310159Z"
    },
    "papermill": {
     "duration": 0.128156,
     "end_time": "2020-12-25T08:12:43.310386",
     "exception": false,
     "start_time": "2020-12-25T08:12:43.182230",
     "status": "completed"
    },
    "tags": []
   },
   "outputs": [
    {
     "name": "stdout",
     "output_type": "stream",
     "text": [
      "0.09641556040055911\n"
     ]
    }
   ],
   "source": [
    "X_train,X_valid,y_train,y_valid=train_test_split(X,y,random_state=21)\n",
    "\n",
    "benchmark_model=XGBRegressor(random_state=21)\n",
    "\n",
    "benchmark_model.fit(X_train,y_train)\n",
    "pred=benchmark_model.predict(X_valid)\n",
    "        \n",
    "\n",
    "mean=mean_absolute_error(y_valid,pred)\n",
    "\n",
    "print(mean)"
   ]
  },
  {
   "cell_type": "code",
   "execution_count": 6,
   "metadata": {
    "execution": {
     "iopub.execute_input": "2020-12-25T08:12:43.358987Z",
     "iopub.status.busy": "2020-12-25T08:12:43.357969Z",
     "iopub.status.idle": "2020-12-25T08:14:27.274324Z",
     "shell.execute_reply": "2020-12-25T08:14:27.273530Z"
    },
    "papermill": {
     "duration": 103.944501,
     "end_time": "2020-12-25T08:14:27.274486",
     "exception": false,
     "start_time": "2020-12-25T08:12:43.329985",
     "status": "completed"
    },
    "tags": []
   },
   "outputs": [
    {
     "name": "stdout",
     "output_type": "stream",
     "text": [
      "Fitting 6 folds for each of 50 candidates, totalling 300 fits\n"
     ]
    },
    {
     "name": "stderr",
     "output_type": "stream",
     "text": [
      "[Parallel(n_jobs=4)]: Using backend LokyBackend with 4 concurrent workers.\n",
      "[Parallel(n_jobs=4)]: Done  42 tasks      | elapsed:   21.9s\n",
      "[Parallel(n_jobs=4)]: Done 192 tasks      | elapsed:  1.2min\n"
     ]
    },
    {
     "name": "stdout",
     "output_type": "stream",
     "text": [
      "Best parameters found:  {'subsample': 0.8, 'n_jobs': 4, 'n_estimators': 150, 'max_depth': 4, 'learning_rate': 0.05, 'colsample_bytree': 0.8}\n",
      "Best neg_mean_absolute_error found:  0.10545785762801192\n"
     ]
    },
    {
     "name": "stderr",
     "output_type": "stream",
     "text": [
      "[Parallel(n_jobs=4)]: Done 300 out of 300 | elapsed:  1.7min finished\n"
     ]
    }
   ],
   "source": [
    "# Create the parameter grid: gbm_param_grid \n",
    "gbm_param_grid = {\n",
    "    'n_estimators': range(0,500,50),\n",
    "    'max_depth': range(3,7),\n",
    "    'learning_rate': [0.05,0.1,0.15,0.2,0.25],\n",
    "    'subsample':[0.8,0.9,1],\n",
    "    'colsample_bytree': [0.6, 0.7, 0.8, 0.9, 1],\n",
    "    'n_jobs':[4]\n",
    "}\n",
    "\n",
    "# Instantiate the regressor: gbm\n",
    "gbm = XGBRegressor(random_state=21)\n",
    "\n",
    "#Perform random search: grid_mse\n",
    "xgb_random = RandomizedSearchCV(param_distributions=gbm_param_grid, \n",
    "                                    estimator = gbm, scoring = \"neg_mean_absolute_error\", \n",
    "                                    verbose = 1, n_iter = 50, cv = 6,n_jobs=4)\n",
    "\n",
    "\n",
    "#Fit randomized_mse to the data\n",
    "xgb_random.fit(X, y)\n",
    "\n",
    "#Print the best parameters and lowest RMSE\n",
    "print(\"Best parameters found: \", xgb_random.best_params_)\n",
    "print(\"Best neg_mean_absolute_error found: \", xgb_random.best_score_*-1)"
   ]
  },
  {
   "cell_type": "code",
   "execution_count": 7,
   "metadata": {
    "execution": {
     "iopub.execute_input": "2020-12-25T08:14:27.328013Z",
     "iopub.status.busy": "2020-12-25T08:14:27.327084Z",
     "iopub.status.idle": "2020-12-25T08:14:54.826353Z",
     "shell.execute_reply": "2020-12-25T08:14:54.824943Z"
    },
    "papermill": {
     "duration": 27.531156,
     "end_time": "2020-12-25T08:14:54.826543",
     "exception": false,
     "start_time": "2020-12-25T08:14:27.295387",
     "status": "completed"
    },
    "tags": []
   },
   "outputs": [
    {
     "name": "stdout",
     "output_type": "stream",
     "text": [
      "Fitting 6 folds for each of 10 candidates, totalling 60 fits\n"
     ]
    },
    {
     "name": "stderr",
     "output_type": "stream",
     "text": [
      "[Parallel(n_jobs=4)]: Using backend LokyBackend with 4 concurrent workers.\n",
      "[Parallel(n_jobs=4)]: Done  42 tasks      | elapsed:   21.2s\n",
      "[Parallel(n_jobs=4)]: Done  60 out of  60 | elapsed:   27.2s finished\n"
     ]
    },
    {
     "name": "stdout",
     "output_type": "stream",
     "text": [
      "Best parameters found:  {'subsample': 0.8, 'n_jobs': 4, 'n_estimators': 50, 'max_depth': 5, 'learning_rate': 0.15, 'colsample_bytree': 0.7}\n",
      "Best neg_mean_absolute_error found:  0.10594098203863633\n"
     ]
    }
   ],
   "source": [
    "from lightgbm import LGBMRegressor as lgb\n",
    "\n",
    "lgb_param_grid = {\n",
    "    'n_estimators': range(0,500,50),\n",
    "    'max_depth': range(3,7),\n",
    "    'learning_rate': [0.05,0.1,0.15,0.2,0.25],\n",
    "    'subsample':[0.8,0.9,1],\n",
    "    'colsample_bytree': [0.6, 0.7, 0.8, 0.9, 1],\n",
    "    'n_jobs':[4]\n",
    "}\n",
    "\n",
    "lgb_model = lgb(random_state=21)\n",
    "\n",
    "lgb_random = RandomizedSearchCV(param_distributions=gbm_param_grid, \n",
    "                                   estimator = lgb_model, scoring = \"neg_mean_absolute_error\", \n",
    "                                  verbose = 1, n_iter = 10, cv = 6,n_jobs=4)\n",
    "\n",
    "lgb_random.fit(X, y)\n",
    "\n",
    "print(\"Best parameters found: \", lgb_random.best_params_)\n",
    "print(\"Best neg_mean_absolute_error found: \", lgb_random.best_score_*-1)\n"
   ]
  },
  {
   "cell_type": "code",
   "execution_count": 8,
   "metadata": {
    "execution": {
     "iopub.execute_input": "2020-12-25T08:14:54.887896Z",
     "iopub.status.busy": "2020-12-25T08:14:54.886959Z",
     "iopub.status.idle": "2020-12-25T08:14:54.958710Z",
     "shell.execute_reply": "2020-12-25T08:14:54.959703Z"
    },
    "papermill": {
     "duration": 0.106927,
     "end_time": "2020-12-25T08:14:54.960017",
     "exception": false,
     "start_time": "2020-12-25T08:14:54.853090",
     "status": "completed"
    },
    "tags": []
   },
   "outputs": [
    {
     "data": {
      "text/plain": [
       "array([ 0.6047746 ,  0.46202928,  0.4394877 ,  0.29266328,  0.24929044,\n",
       "        0.25361758,  0.11955807, -0.00160223, -0.00257236,  0.05012992],\n",
       "      dtype=float32)"
      ]
     },
     "execution_count": 8,
     "metadata": {},
     "output_type": "execute_result"
    }
   ],
   "source": [
    "X_test=test_data[features].copy()\n",
    "benchmark_model=XGBRegressor(n_estimators=150,max_depth= 3,subsample=0.9,colsample_bytree=0.8,\n",
    "                   learning_rate=0.05,n_jobs=4,random_state=21)\n",
    "benchmark_model.fit(X,y)\n",
    "benchmark_rank=benchmark_model.predict(X_test)\n",
    "benchmark_rank\n"
   ]
  },
  {
   "cell_type": "code",
   "execution_count": 9,
   "metadata": {
    "execution": {
     "iopub.execute_input": "2020-12-25T08:14:55.025596Z",
     "iopub.status.busy": "2020-12-25T08:14:55.024602Z",
     "iopub.status.idle": "2020-12-25T08:14:55.026803Z",
     "shell.execute_reply": "2020-12-25T08:14:55.028813Z"
    },
    "papermill": {
     "duration": 0.041348,
     "end_time": "2020-12-25T08:14:55.029325",
     "exception": false,
     "start_time": "2020-12-25T08:14:54.987977",
     "status": "completed"
    },
    "tags": []
   },
   "outputs": [],
   "source": [
    "names=test_data[\"player\"].copy()\n",
    "names=names.to_numpy()\n",
    "Prediction_Basketball_Reference=test_data[\"value\"].copy()\n",
    "Prediction_Basketball_Reference=Prediction_Basketball_Reference.to_numpy()"
   ]
  },
  {
   "cell_type": "code",
   "execution_count": 10,
   "metadata": {
    "execution": {
     "iopub.execute_input": "2020-12-25T08:14:55.092497Z",
     "iopub.status.busy": "2020-12-25T08:14:55.091537Z",
     "iopub.status.idle": "2020-12-25T08:14:55.106766Z",
     "shell.execute_reply": "2020-12-25T08:14:55.107760Z"
    },
    "papermill": {
     "duration": 0.054099,
     "end_time": "2020-12-25T08:14:55.107958",
     "exception": false,
     "start_time": "2020-12-25T08:14:55.053859",
     "status": "completed"
    },
    "tags": []
   },
   "outputs": [
    {
     "data": {
      "text/html": [
       "<div>\n",
       "<style scoped>\n",
       "    .dataframe tbody tr th:only-of-type {\n",
       "        vertical-align: middle;\n",
       "    }\n",
       "\n",
       "    .dataframe tbody tr th {\n",
       "        vertical-align: top;\n",
       "    }\n",
       "\n",
       "    .dataframe thead th {\n",
       "        text-align: right;\n",
       "    }\n",
       "</style>\n",
       "<table border=\"1\" class=\"dataframe\">\n",
       "  <thead>\n",
       "    <tr style=\"text-align: right;\">\n",
       "      <th></th>\n",
       "      <th>Name</th>\n",
       "      <th>Prediction_Basketball_Reference</th>\n",
       "      <th>XGB_Benchmark_Prediction</th>\n",
       "    </tr>\n",
       "  </thead>\n",
       "  <tbody>\n",
       "    <tr>\n",
       "      <th>0</th>\n",
       "      <td>Giannis Antetokounmpo</td>\n",
       "      <td>50.7%</td>\n",
       "      <td>60.477459</td>\n",
       "    </tr>\n",
       "    <tr>\n",
       "      <th>1</th>\n",
       "      <td>LeBron James</td>\n",
       "      <td>17.3%</td>\n",
       "      <td>46.202928</td>\n",
       "    </tr>\n",
       "    <tr>\n",
       "      <th>2</th>\n",
       "      <td>James Harden</td>\n",
       "      <td>10.5%</td>\n",
       "      <td>43.948770</td>\n",
       "    </tr>\n",
       "    <tr>\n",
       "      <th>3</th>\n",
       "      <td>Anthony Davis</td>\n",
       "      <td>9.8%</td>\n",
       "      <td>29.266328</td>\n",
       "    </tr>\n",
       "    <tr>\n",
       "      <th>4</th>\n",
       "      <td>Luka Dončić</td>\n",
       "      <td>4.0%</td>\n",
       "      <td>24.929044</td>\n",
       "    </tr>\n",
       "    <tr>\n",
       "      <th>5</th>\n",
       "      <td>Kawhi Leonard</td>\n",
       "      <td>2.1%</td>\n",
       "      <td>25.361758</td>\n",
       "    </tr>\n",
       "    <tr>\n",
       "      <th>6</th>\n",
       "      <td>Nikola Jokić</td>\n",
       "      <td>1.8%</td>\n",
       "      <td>11.955807</td>\n",
       "    </tr>\n",
       "    <tr>\n",
       "      <th>7</th>\n",
       "      <td>Khris Middleton</td>\n",
       "      <td>1.5%</td>\n",
       "      <td>-0.160223</td>\n",
       "    </tr>\n",
       "    <tr>\n",
       "      <th>8</th>\n",
       "      <td>Kyle Lowry</td>\n",
       "      <td>1.1%</td>\n",
       "      <td>-0.257236</td>\n",
       "    </tr>\n",
       "    <tr>\n",
       "      <th>9</th>\n",
       "      <td>Jimmy Butler</td>\n",
       "      <td>1.1%</td>\n",
       "      <td>5.012992</td>\n",
       "    </tr>\n",
       "  </tbody>\n",
       "</table>\n",
       "</div>"
      ],
      "text/plain": [
       "                    Name Prediction_Basketball_Reference  \\\n",
       "0  Giannis Antetokounmpo                           50.7%   \n",
       "1           LeBron James                           17.3%   \n",
       "2           James Harden                           10.5%   \n",
       "3          Anthony Davis                            9.8%   \n",
       "4            Luka Dončić                            4.0%   \n",
       "5          Kawhi Leonard                            2.1%   \n",
       "6           Nikola Jokić                            1.8%   \n",
       "7        Khris Middleton                            1.5%   \n",
       "8             Kyle Lowry                            1.1%   \n",
       "9           Jimmy Butler                            1.1%   \n",
       "\n",
       "   XGB_Benchmark_Prediction  \n",
       "0                 60.477459  \n",
       "1                 46.202928  \n",
       "2                 43.948770  \n",
       "3                 29.266328  \n",
       "4                 24.929044  \n",
       "5                 25.361758  \n",
       "6                 11.955807  \n",
       "7                 -0.160223  \n",
       "8                 -0.257236  \n",
       "9                  5.012992  "
      ]
     },
     "execution_count": 10,
     "metadata": {},
     "output_type": "execute_result"
    }
   ],
   "source": [
    "results= list(zip(names,Prediction_Basketball_Reference,benchmark_rank))\n",
    "result_df=pd.DataFrame(results,columns=[\"Name\",\"Prediction_Basketball_Reference\",\"XGB_Benchmark_Prediction\"])\n",
    "result_df[\"XGB_Benchmark_Prediction\"]=result_df[\"XGB_Benchmark_Prediction\"]*100\n",
    "result_df"
   ]
  },
  {
   "cell_type": "code",
   "execution_count": 11,
   "metadata": {
    "execution": {
     "iopub.execute_input": "2020-12-25T08:14:55.174451Z",
     "iopub.status.busy": "2020-12-25T08:14:55.173464Z",
     "iopub.status.idle": "2020-12-25T08:14:55.178361Z",
     "shell.execute_reply": "2020-12-25T08:14:55.177850Z"
    },
    "papermill": {
     "duration": 0.044928,
     "end_time": "2020-12-25T08:14:55.178478",
     "exception": false,
     "start_time": "2020-12-25T08:14:55.133550",
     "status": "completed"
    },
    "tags": []
   },
   "outputs": [
    {
     "data": {
      "text/html": [
       "<div>\n",
       "<style scoped>\n",
       "    .dataframe tbody tr th:only-of-type {\n",
       "        vertical-align: middle;\n",
       "    }\n",
       "\n",
       "    .dataframe tbody tr th {\n",
       "        vertical-align: top;\n",
       "    }\n",
       "\n",
       "    .dataframe thead th {\n",
       "        text-align: right;\n",
       "    }\n",
       "</style>\n",
       "<table border=\"1\" class=\"dataframe\">\n",
       "  <thead>\n",
       "    <tr style=\"text-align: right;\">\n",
       "      <th></th>\n",
       "      <th>Name</th>\n",
       "      <th>Prediction_Basketball_Reference</th>\n",
       "      <th>XGB_Benchmark_Prediction</th>\n",
       "    </tr>\n",
       "  </thead>\n",
       "  <tbody>\n",
       "    <tr>\n",
       "      <th>0</th>\n",
       "      <td>Giannis Antetokounmpo</td>\n",
       "      <td>50.7%</td>\n",
       "      <td>24.510838</td>\n",
       "    </tr>\n",
       "    <tr>\n",
       "      <th>1</th>\n",
       "      <td>LeBron James</td>\n",
       "      <td>17.3%</td>\n",
       "      <td>18.725530</td>\n",
       "    </tr>\n",
       "    <tr>\n",
       "      <th>2</th>\n",
       "      <td>James Harden</td>\n",
       "      <td>10.5%</td>\n",
       "      <td>17.811945</td>\n",
       "    </tr>\n",
       "    <tr>\n",
       "      <th>3</th>\n",
       "      <td>Anthony Davis</td>\n",
       "      <td>9.8%</td>\n",
       "      <td>11.861315</td>\n",
       "    </tr>\n",
       "    <tr>\n",
       "      <th>4</th>\n",
       "      <td>Luka Dončić</td>\n",
       "      <td>4.0%</td>\n",
       "      <td>10.103463</td>\n",
       "    </tr>\n",
       "    <tr>\n",
       "      <th>5</th>\n",
       "      <td>Kawhi Leonard</td>\n",
       "      <td>2.1%</td>\n",
       "      <td>10.278837</td>\n",
       "    </tr>\n",
       "    <tr>\n",
       "      <th>6</th>\n",
       "      <td>Nikola Jokić</td>\n",
       "      <td>1.8%</td>\n",
       "      <td>4.845555</td>\n",
       "    </tr>\n",
       "    <tr>\n",
       "      <th>7</th>\n",
       "      <td>Khris Middleton</td>\n",
       "      <td>1.5%</td>\n",
       "      <td>-0.064937</td>\n",
       "    </tr>\n",
       "    <tr>\n",
       "      <th>8</th>\n",
       "      <td>Kyle Lowry</td>\n",
       "      <td>1.1%</td>\n",
       "      <td>-0.104255</td>\n",
       "    </tr>\n",
       "    <tr>\n",
       "      <th>9</th>\n",
       "      <td>Jimmy Butler</td>\n",
       "      <td>1.1%</td>\n",
       "      <td>2.031710</td>\n",
       "    </tr>\n",
       "  </tbody>\n",
       "</table>\n",
       "</div>"
      ],
      "text/plain": [
       "                    Name Prediction_Basketball_Reference  \\\n",
       "0  Giannis Antetokounmpo                           50.7%   \n",
       "1           LeBron James                           17.3%   \n",
       "2           James Harden                           10.5%   \n",
       "3          Anthony Davis                            9.8%   \n",
       "4            Luka Dončić                            4.0%   \n",
       "5          Kawhi Leonard                            2.1%   \n",
       "6           Nikola Jokić                            1.8%   \n",
       "7        Khris Middleton                            1.5%   \n",
       "8             Kyle Lowry                            1.1%   \n",
       "9           Jimmy Butler                            1.1%   \n",
       "\n",
       "   XGB_Benchmark_Prediction  \n",
       "0                 24.510838  \n",
       "1                 18.725530  \n",
       "2                 17.811945  \n",
       "3                 11.861315  \n",
       "4                 10.103463  \n",
       "5                 10.278837  \n",
       "6                  4.845555  \n",
       "7                 -0.064937  \n",
       "8                 -0.104255  \n",
       "9                  2.031710  "
      ]
     },
     "execution_count": 11,
     "metadata": {},
     "output_type": "execute_result"
    }
   ],
   "source": [
    "sum=result_df[\"XGB_Benchmark_Prediction\"].sum()\n",
    "XGB_Benchmark_Prediction=result_df[\"XGB_Benchmark_Prediction\"].copy().to_numpy()\n",
    "\n",
    "\n",
    "for index,award_share in enumerate(XGB_Benchmark_Prediction):\n",
    "    result_df.iloc[index,2]=(award_share/sum)*100\n",
    "\n",
    "result_df"
   ]
  },
  {
   "cell_type": "code",
   "execution_count": 12,
   "metadata": {
    "execution": {
     "iopub.execute_input": "2020-12-25T08:14:55.227531Z",
     "iopub.status.busy": "2020-12-25T08:14:55.226612Z",
     "iopub.status.idle": "2020-12-25T08:14:55.637820Z",
     "shell.execute_reply": "2020-12-25T08:14:55.637124Z"
    },
    "papermill": {
     "duration": 0.438949,
     "end_time": "2020-12-25T08:14:55.637938",
     "exception": false,
     "start_time": "2020-12-25T08:14:55.198989",
     "status": "completed"
    },
    "tags": []
   },
   "outputs": [
    {
     "data": {
      "image/png": "[encoded data removed]",
      "text/plain": [
       "<Figure size 1512x720 with 1 Axes>"
      ]
     },
     "metadata": {
      "needs_background": "light"
     },
     "output_type": "display_data"
    }
   ],
   "source": [
    "import matplotlib.pyplot as plt\n",
    "import seaborn as sns\n",
    "plt.figure(figsize=(21,10))\n",
    "sns.barplot(x=\"Name\",y=\"XGB_Benchmark_Prediction\",data=result_df)\n",
    "plt.show()"
   ]
  },
  {
   "cell_type": "code",
   "execution_count": 13,
   "metadata": {
    "execution": {
     "iopub.execute_input": "2020-12-25T08:14:55.685613Z",
     "iopub.status.busy": "2020-12-25T08:14:55.684834Z",
     "iopub.status.idle": "2020-12-25T08:14:55.688341Z",
     "shell.execute_reply": "2020-12-25T08:14:55.687748Z"
    },
    "papermill": {
     "duration": 0.031226,
     "end_time": "2020-12-25T08:14:55.688462",
     "exception": false,
     "start_time": "2020-12-25T08:14:55.657236",
     "status": "completed"
    },
    "tags": []
   },
   "outputs": [],
   "source": [
    "benchmark_model=lgb( subsample=0.8, n_jobs=4, n_estimators=200, max_depth=3,\n",
    "                    learning_rate = 0.15, colsample_bytree= 0.7)"
   ]
  },
  {
   "cell_type": "code",
   "execution_count": 14,
   "metadata": {
    "execution": {
     "iopub.execute_input": "2020-12-25T08:14:55.739122Z",
     "iopub.status.busy": "2020-12-25T08:14:55.738212Z",
     "iopub.status.idle": "2020-12-25T08:14:55.794503Z",
     "shell.execute_reply": "2020-12-25T08:14:55.795249Z"
    },
    "papermill": {
     "duration": 0.087646,
     "end_time": "2020-12-25T08:14:55.795451",
     "exception": false,
     "start_time": "2020-12-25T08:14:55.707805",
     "status": "completed"
    },
    "tags": []
   },
   "outputs": [
    {
     "data": {
      "text/plain": [
       "array([ 0.61598543,  0.54639537,  0.34591065,  0.2679519 ,  0.21203788,\n",
       "        0.10655819,  0.08208306, -0.02692715, -0.00183936, -0.00180876])"
      ]
     },
     "execution_count": 14,
     "metadata": {},
     "output_type": "execute_result"
    }
   ],
   "source": [
    "benchmark_model.fit(X,y)\n",
    "benchmark_rank=benchmark_model.predict(X_test)\n",
    "benchmark_rank"
   ]
  },
  {
   "cell_type": "code",
   "execution_count": 15,
   "metadata": {
    "execution": {
     "iopub.execute_input": "2020-12-25T08:14:55.875287Z",
     "iopub.status.busy": "2020-12-25T08:14:55.874386Z",
     "iopub.status.idle": "2020-12-25T08:14:55.890052Z",
     "shell.execute_reply": "2020-12-25T08:14:55.890780Z"
    },
    "papermill": {
     "duration": 0.064859,
     "end_time": "2020-12-25T08:14:55.890972",
     "exception": false,
     "start_time": "2020-12-25T08:14:55.826113",
     "status": "completed"
    },
    "tags": []
   },
   "outputs": [
    {
     "data": {
      "text/html": [
       "<div>\n",
       "<style scoped>\n",
       "    .dataframe tbody tr th:only-of-type {\n",
       "        vertical-align: middle;\n",
       "    }\n",
       "\n",
       "    .dataframe tbody tr th {\n",
       "        vertical-align: top;\n",
       "    }\n",
       "\n",
       "    .dataframe thead th {\n",
       "        text-align: right;\n",
       "    }\n",
       "</style>\n",
       "<table border=\"1\" class=\"dataframe\">\n",
       "  <thead>\n",
       "    <tr style=\"text-align: right;\">\n",
       "      <th></th>\n",
       "      <th>Name</th>\n",
       "      <th>Prediction_Basketball_Reference</th>\n",
       "      <th>XGB_Benchmark_Prediction</th>\n",
       "      <th>LGBM_Benchmark_Prediction</th>\n",
       "    </tr>\n",
       "  </thead>\n",
       "  <tbody>\n",
       "    <tr>\n",
       "      <th>0</th>\n",
       "      <td>Giannis Antetokounmpo</td>\n",
       "      <td>50.7%</td>\n",
       "      <td>24.510838</td>\n",
       "      <td>28.699244</td>\n",
       "    </tr>\n",
       "    <tr>\n",
       "      <th>1</th>\n",
       "      <td>LeBron James</td>\n",
       "      <td>17.3%</td>\n",
       "      <td>18.725530</td>\n",
       "      <td>25.456989</td>\n",
       "    </tr>\n",
       "    <tr>\n",
       "      <th>2</th>\n",
       "      <td>James Harden</td>\n",
       "      <td>10.5%</td>\n",
       "      <td>17.811945</td>\n",
       "      <td>16.116249</td>\n",
       "    </tr>\n",
       "    <tr>\n",
       "      <th>3</th>\n",
       "      <td>Anthony Davis</td>\n",
       "      <td>9.8%</td>\n",
       "      <td>11.861315</td>\n",
       "      <td>12.484089</td>\n",
       "    </tr>\n",
       "    <tr>\n",
       "      <th>4</th>\n",
       "      <td>Luka Dončić</td>\n",
       "      <td>4.0%</td>\n",
       "      <td>10.103463</td>\n",
       "      <td>9.879011</td>\n",
       "    </tr>\n",
       "    <tr>\n",
       "      <th>5</th>\n",
       "      <td>Kawhi Leonard</td>\n",
       "      <td>2.1%</td>\n",
       "      <td>10.278837</td>\n",
       "      <td>4.964630</td>\n",
       "    </tr>\n",
       "    <tr>\n",
       "      <th>6</th>\n",
       "      <td>Nikola Jokić</td>\n",
       "      <td>1.8%</td>\n",
       "      <td>4.845555</td>\n",
       "      <td>3.824314</td>\n",
       "    </tr>\n",
       "    <tr>\n",
       "      <th>7</th>\n",
       "      <td>Khris Middleton</td>\n",
       "      <td>1.5%</td>\n",
       "      <td>-0.064937</td>\n",
       "      <td>-1.254557</td>\n",
       "    </tr>\n",
       "    <tr>\n",
       "      <th>8</th>\n",
       "      <td>Kyle Lowry</td>\n",
       "      <td>1.1%</td>\n",
       "      <td>-0.104255</td>\n",
       "      <td>-0.085697</td>\n",
       "    </tr>\n",
       "    <tr>\n",
       "      <th>9</th>\n",
       "      <td>Jimmy Butler</td>\n",
       "      <td>1.1%</td>\n",
       "      <td>2.031710</td>\n",
       "      <td>-0.084271</td>\n",
       "    </tr>\n",
       "  </tbody>\n",
       "</table>\n",
       "</div>"
      ],
      "text/plain": [
       "                    Name Prediction_Basketball_Reference  \\\n",
       "0  Giannis Antetokounmpo                           50.7%   \n",
       "1           LeBron James                           17.3%   \n",
       "2           James Harden                           10.5%   \n",
       "3          Anthony Davis                            9.8%   \n",
       "4            Luka Dončić                            4.0%   \n",
       "5          Kawhi Leonard                            2.1%   \n",
       "6           Nikola Jokić                            1.8%   \n",
       "7        Khris Middleton                            1.5%   \n",
       "8             Kyle Lowry                            1.1%   \n",
       "9           Jimmy Butler                            1.1%   \n",
       "\n",
       "   XGB_Benchmark_Prediction  LGBM_Benchmark_Prediction  \n",
       "0                 24.510838                  28.699244  \n",
       "1                 18.725530                  25.456989  \n",
       "2                 17.811945                  16.116249  \n",
       "3                 11.861315                  12.484089  \n",
       "4                 10.103463                   9.879011  \n",
       "5                 10.278837                   4.964630  \n",
       "6                  4.845555                   3.824314  \n",
       "7                 -0.064937                  -1.254557  \n",
       "8                 -0.104255                  -0.085697  \n",
       "9                  2.031710                  -0.084271  "
      ]
     },
     "execution_count": 15,
     "metadata": {},
     "output_type": "execute_result"
    }
   ],
   "source": [
    "result_df[\"LGBM_Benchmark_Prediction\"]=benchmark_rank*100\n",
    "\n",
    "sum=result_df[\"LGBM_Benchmark_Prediction\"].sum()\n",
    "LGBM_Benchmark_Prediction=result_df[\"LGBM_Benchmark_Prediction\"].copy().to_numpy()\n",
    "\n",
    "\n",
    "for index,award_share in enumerate(LGBM_Benchmark_Prediction):\n",
    "    result_df.iloc[index,3]=(award_share/sum)*100\n",
    "\n",
    "result_df"
   ]
  },
  {
   "cell_type": "code",
   "execution_count": 16,
   "metadata": {
    "execution": {
     "iopub.execute_input": "2020-12-25T08:14:55.980066Z",
     "iopub.status.busy": "2020-12-25T08:14:55.976673Z",
     "iopub.status.idle": "2020-12-25T08:14:56.217678Z",
     "shell.execute_reply": "2020-12-25T08:14:56.216997Z"
    },
    "papermill": {
     "duration": 0.296116,
     "end_time": "2020-12-25T08:14:56.217816",
     "exception": false,
     "start_time": "2020-12-25T08:14:55.921700",
     "status": "completed"
    },
    "tags": []
   },
   "outputs": [
    {
     "data": {
      "image/png": "[encoded data removed]",
      "text/plain": [
       "<Figure size 1512x720 with 1 Axes>"
      ]
     },
     "metadata": {
      "needs_background": "light"
     },
     "output_type": "display_data"
    }
   ],
   "source": [
    "import matplotlib.pyplot as plt\n",
    "import seaborn as sns\n",
    "plt.figure(figsize=(21,10))\n",
    "sns.barplot(x=\"Name\",y=\"LGBM_Benchmark_Prediction\",data=result_df)\n",
    "plt.show()"
   ]
  },
  {
   "cell_type": "code",
   "execution_count": 17,
   "metadata": {
    "execution": {
     "iopub.execute_input": "2020-12-25T08:14:56.281976Z",
     "iopub.status.busy": "2020-12-25T08:14:56.280826Z",
     "iopub.status.idle": "2020-12-25T08:14:56.284565Z",
     "shell.execute_reply": "2020-12-25T08:14:56.285189Z"
    },
    "papermill": {
     "duration": 0.045577,
     "end_time": "2020-12-25T08:14:56.285337",
     "exception": false,
     "start_time": "2020-12-25T08:14:56.239760",
     "status": "completed"
    },
    "tags": []
   },
   "outputs": [
    {
     "data": {
      "text/html": [
       "<div>\n",
       "<style scoped>\n",
       "    .dataframe tbody tr th:only-of-type {\n",
       "        vertical-align: middle;\n",
       "    }\n",
       "\n",
       "    .dataframe tbody tr th {\n",
       "        vertical-align: top;\n",
       "    }\n",
       "\n",
       "    .dataframe thead th {\n",
       "        text-align: right;\n",
       "    }\n",
       "</style>\n",
       "<table border=\"1\" class=\"dataframe\">\n",
       "  <thead>\n",
       "    <tr style=\"text-align: right;\">\n",
       "      <th></th>\n",
       "      <th>Name</th>\n",
       "      <th>regressors</th>\n",
       "      <th>win prediction</th>\n",
       "    </tr>\n",
       "  </thead>\n",
       "  <tbody>\n",
       "    <tr>\n",
       "      <th>0</th>\n",
       "      <td>Giannis Antetokounmpo</td>\n",
       "      <td>XGB_Benchmark_Prediction</td>\n",
       "      <td>24.510838</td>\n",
       "    </tr>\n",
       "    <tr>\n",
       "      <th>1</th>\n",
       "      <td>LeBron James</td>\n",
       "      <td>XGB_Benchmark_Prediction</td>\n",
       "      <td>18.725530</td>\n",
       "    </tr>\n",
       "    <tr>\n",
       "      <th>2</th>\n",
       "      <td>James Harden</td>\n",
       "      <td>XGB_Benchmark_Prediction</td>\n",
       "      <td>17.811945</td>\n",
       "    </tr>\n",
       "    <tr>\n",
       "      <th>3</th>\n",
       "      <td>Anthony Davis</td>\n",
       "      <td>XGB_Benchmark_Prediction</td>\n",
       "      <td>11.861315</td>\n",
       "    </tr>\n",
       "    <tr>\n",
       "      <th>4</th>\n",
       "      <td>Luka Dončić</td>\n",
       "      <td>XGB_Benchmark_Prediction</td>\n",
       "      <td>10.103463</td>\n",
       "    </tr>\n",
       "    <tr>\n",
       "      <th>5</th>\n",
       "      <td>Kawhi Leonard</td>\n",
       "      <td>XGB_Benchmark_Prediction</td>\n",
       "      <td>10.278837</td>\n",
       "    </tr>\n",
       "    <tr>\n",
       "      <th>6</th>\n",
       "      <td>Nikola Jokić</td>\n",
       "      <td>XGB_Benchmark_Prediction</td>\n",
       "      <td>4.845555</td>\n",
       "    </tr>\n",
       "    <tr>\n",
       "      <th>7</th>\n",
       "      <td>Khris Middleton</td>\n",
       "      <td>XGB_Benchmark_Prediction</td>\n",
       "      <td>-0.064937</td>\n",
       "    </tr>\n",
       "    <tr>\n",
       "      <th>8</th>\n",
       "      <td>Kyle Lowry</td>\n",
       "      <td>XGB_Benchmark_Prediction</td>\n",
       "      <td>-0.104255</td>\n",
       "    </tr>\n",
       "    <tr>\n",
       "      <th>9</th>\n",
       "      <td>Jimmy Butler</td>\n",
       "      <td>XGB_Benchmark_Prediction</td>\n",
       "      <td>2.031710</td>\n",
       "    </tr>\n",
       "    <tr>\n",
       "      <th>10</th>\n",
       "      <td>Giannis Antetokounmpo</td>\n",
       "      <td>LGBM_Benchmark_Prediction</td>\n",
       "      <td>28.699244</td>\n",
       "    </tr>\n",
       "    <tr>\n",
       "      <th>11</th>\n",
       "      <td>LeBron James</td>\n",
       "      <td>LGBM_Benchmark_Prediction</td>\n",
       "      <td>25.456989</td>\n",
       "    </tr>\n",
       "    <tr>\n",
       "      <th>12</th>\n",
       "      <td>James Harden</td>\n",
       "      <td>LGBM_Benchmark_Prediction</td>\n",
       "      <td>16.116249</td>\n",
       "    </tr>\n",
       "    <tr>\n",
       "      <th>13</th>\n",
       "      <td>Anthony Davis</td>\n",
       "      <td>LGBM_Benchmark_Prediction</td>\n",
       "      <td>12.484089</td>\n",
       "    </tr>\n",
       "    <tr>\n",
       "      <th>14</th>\n",
       "      <td>Luka Dončić</td>\n",
       "      <td>LGBM_Benchmark_Prediction</td>\n",
       "      <td>9.879011</td>\n",
       "    </tr>\n",
       "    <tr>\n",
       "      <th>15</th>\n",
       "      <td>Kawhi Leonard</td>\n",
       "      <td>LGBM_Benchmark_Prediction</td>\n",
       "      <td>4.964630</td>\n",
       "    </tr>\n",
       "    <tr>\n",
       "      <th>16</th>\n",
       "      <td>Nikola Jokić</td>\n",
       "      <td>LGBM_Benchmark_Prediction</td>\n",
       "      <td>3.824314</td>\n",
       "    </tr>\n",
       "    <tr>\n",
       "      <th>17</th>\n",
       "      <td>Khris Middleton</td>\n",
       "      <td>LGBM_Benchmark_Prediction</td>\n",
       "      <td>-1.254557</td>\n",
       "    </tr>\n",
       "    <tr>\n",
       "      <th>18</th>\n",
       "      <td>Kyle Lowry</td>\n",
       "      <td>LGBM_Benchmark_Prediction</td>\n",
       "      <td>-0.085697</td>\n",
       "    </tr>\n",
       "    <tr>\n",
       "      <th>19</th>\n",
       "      <td>Jimmy Butler</td>\n",
       "      <td>LGBM_Benchmark_Prediction</td>\n",
       "      <td>-0.084271</td>\n",
       "    </tr>\n",
       "  </tbody>\n",
       "</table>\n",
       "</div>"
      ],
      "text/plain": [
       "                     Name                 regressors  win prediction\n",
       "0   Giannis Antetokounmpo   XGB_Benchmark_Prediction       24.510838\n",
       "1            LeBron James   XGB_Benchmark_Prediction       18.725530\n",
       "2            James Harden   XGB_Benchmark_Prediction       17.811945\n",
       "3           Anthony Davis   XGB_Benchmark_Prediction       11.861315\n",
       "4             Luka Dončić   XGB_Benchmark_Prediction       10.103463\n",
       "5           Kawhi Leonard   XGB_Benchmark_Prediction       10.278837\n",
       "6            Nikola Jokić   XGB_Benchmark_Prediction        4.845555\n",
       "7         Khris Middleton   XGB_Benchmark_Prediction       -0.064937\n",
       "8              Kyle Lowry   XGB_Benchmark_Prediction       -0.104255\n",
       "9            Jimmy Butler   XGB_Benchmark_Prediction        2.031710\n",
       "10  Giannis Antetokounmpo  LGBM_Benchmark_Prediction       28.699244\n",
       "11           LeBron James  LGBM_Benchmark_Prediction       25.456989\n",
       "12           James Harden  LGBM_Benchmark_Prediction       16.116249\n",
       "13          Anthony Davis  LGBM_Benchmark_Prediction       12.484089\n",
       "14            Luka Dončić  LGBM_Benchmark_Prediction        9.879011\n",
       "15          Kawhi Leonard  LGBM_Benchmark_Prediction        4.964630\n",
       "16           Nikola Jokić  LGBM_Benchmark_Prediction        3.824314\n",
       "17        Khris Middleton  LGBM_Benchmark_Prediction       -1.254557\n",
       "18             Kyle Lowry  LGBM_Benchmark_Prediction       -0.085697\n",
       "19           Jimmy Butler  LGBM_Benchmark_Prediction       -0.084271"
      ]
     },
     "execution_count": 17,
     "metadata": {},
     "output_type": "execute_result"
    }
   ],
   "source": [
    "result_df_rearranged=result_df.drop('Prediction_Basketball_Reference',axis=1)\n",
    "result_df_rearranged = pd.melt(result_df_rearranged, id_vars=\"Name\", var_name=\"regressors\", value_name=\"win prediction\")\n",
    "result_df_rearranged"
   ]
  },
  {
   "cell_type": "code",
   "execution_count": 18,
   "metadata": {
    "execution": {
     "iopub.execute_input": "2020-12-25T08:14:56.352462Z",
     "iopub.status.busy": "2020-12-25T08:14:56.337096Z",
     "iopub.status.idle": "2020-12-25T08:14:56.765389Z",
     "shell.execute_reply": "2020-12-25T08:14:56.764716Z"
    },
    "papermill": {
     "duration": 0.45806,
     "end_time": "2020-12-25T08:14:56.765513",
     "exception": false,
     "start_time": "2020-12-25T08:14:56.307453",
     "status": "completed"
    },
    "tags": []
   },
   "outputs": [
    {
     "data": {
      "text/plain": [
       "<seaborn.axisgrid.FacetGrid at 0x7f457d27db10>"
      ]
     },
     "execution_count": 18,
     "metadata": {},
     "output_type": "execute_result"
    },
    {
     "data": {
      "text/plain": [
       "<Figure size 1512x720 with 0 Axes>"
      ]
     },
     "metadata": {},
     "output_type": "display_data"
    },
    {
     "data": {
      "image/png": "[encoded data removed]",
      "text/plain": [
       "<Figure size 541.375x360 with 1 Axes>"
      ]
     },
     "metadata": {
      "needs_background": "light"
     },
     "output_type": "display_data"
    }
   ],
   "source": [
    "plt.figure(figsize=(21,10))\n",
    "plot=sns.catplot(x='Name', y='win prediction', hue='regressors', data=result_df_rearranged,\n",
    "                 kind='bar')\n",
    "plot.set_xticklabels(rotation=90)"
   ]
  },
  {
   "cell_type": "code",
   "execution_count": null,
   "metadata": {
    "papermill": {
     "duration": 0.023356,
     "end_time": "2020-12-25T08:14:56.812511",
     "exception": false,
     "start_time": "2020-12-25T08:14:56.789155",
     "status": "completed"
    },
    "tags": []
   },
   "outputs": [],
   "source": []
  },
  {
   "cell_type": "code",
   "execution_count": null,
   "metadata": {
    "papermill": {
     "duration": 0.023337,
     "end_time": "2020-12-25T08:14:56.859591",
     "exception": false,
     "start_time": "2020-12-25T08:14:56.836254",
     "status": "completed"
    },
    "tags": []
   },
   "outputs": [],
   "source": []
  }
 ],
 "metadata": {
  "kernelspec": {
   "display_name": "Python 3",
   "language": "python",
   "name": "python3"
  },
  "language_info": {
   "codemirror_mode": {
    "name": "ipython",
    "version": 3
   },
   "file_extension": ".py",
   "mimetype": "text/x-python",
   "name": "python",
   "nbconvert_exporter": "python",
   "pygments_lexer": "ipython3",
   "version": "3.7.6"
  },
  "papermill": {
   "duration": 140.680592,
   "end_time": "2020-12-25T08:14:56.996495",
   "environment_variables": {},
   "exception": null,
   "input_path": "__notebook__.ipynb",
   "output_path": "__notebook__.ipynb",
   "parameters": {},
   "start_time": "2020-12-25T08:12:36.315903",
   "version": "2.1.0"
  }
 },
 "nbformat": 4,
 "nbformat_minor": 4
}
